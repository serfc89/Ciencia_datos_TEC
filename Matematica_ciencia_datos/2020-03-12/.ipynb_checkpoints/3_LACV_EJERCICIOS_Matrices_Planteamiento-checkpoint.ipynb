{
  "nbformat": 4,
  "nbformat_minor": 0,
  "metadata": {
    "colab": {
      "name": "3_LACV_EJERCICIOS_Matrices_Planteamiento.ipynb",
      "provenance": [],
      "collapsed_sections": []
    },
    "kernelspec": {
      "display_name": "Python 3",
      "language": "python",
      "name": "python3"
    },
    "language_info": {
      "codemirror_mode": {
        "name": "ipython",
        "version": 3
      },
      "file_extension": ".py",
      "mimetype": "text/x-python",
      "name": "python",
      "nbconvert_exporter": "python",
      "pygments_lexer": "ipython3",
      "version": "3.6.6"
    }
  },
  "cells": [
    {
      "cell_type": "markdown",
      "metadata": {
        "colab_type": "text",
        "id": "sPD8sqQXo3_P"
      },
      "source": [
        "# Matemática para Ciencia de los Datos - Matrices\n",
        "\n",
        "-Profesor: Luis Alexánder Calvo Valverde.\n",
        "\n",
        "- Documento base: Saúl Calderón, Žiga Emeršič, Ángel García, Blaž Meden, Felipe Meza, Martín Solís, Juan Esquivel, Mauro Méndez, Manuel Zumbado.\n",
        "# Ejercicio Matrices\n"
      ]
    },
    {
      "cell_type": "markdown",
      "metadata": {
        "colab_type": "text",
        "id": "D6JGdk1RbNX3"
      },
      "source": [
        "De los datasets dentro de la carpeta \"content\" \"sample_data\" que ofrece colab, cargue california_housing_test. Es un archivo CSV (separados por coma) que se puede cargar a un `ndarray` de  `numpy` con la función `numpy.getfromtxt`. Para poner en práctica la manera estándar de abordar un sistema lineal, queremos expresar los datos de la forma $A\\vec{x}=b$ donde $b$, el objetivo, es un vector con los datos de la última columna (asumiendo que queremos predecir el precio medio de las casas en el conjunto de datos). El resto de las columnas representarán la matriz $A$. \n",
        "\n",
        "- (1) Una vez divididos los datos, proponga valores de $\\vec{x}$ que tengan sentido de forma intuitiva y realizar la multiplicación vector. El resultado ideal de esta multiplicación es tener una predicción \"inocente\" de los valores de las casas. El objetivo de este ejercicio es que los estudiantes se familiaricen con los datos. Es útil en este tipo de tareas validar el conocimiento de dominio con lo que eventualmente generará un modelo. Por ejemplo, si la longitud y latitud se consideran irrelevantes, un $\\vec{x}$ de prueba podría asignar valores cercanos a cero (o cero incluso) a esas columnas, pero asignar valores altos a factores que se deseen como el ingreso promedio de la región. \n",
        "- (2) Ordenar el conjunto de datos original de mayor o menor (por precio de casa) y agregar una columna de 1 hasta $m$, donde $m$ es el total de filas, que reflejen un escalafón de regiones más o menos costosas. Repetir el proceso con pesos $\\vec{x}$ de ejemplo y comparar, visualmente, qué tan cercano es el escalafón real al de predicción. Posteriormente, genere una métrica para comparar los escalafones.\n"
      ]
    }
  ]
}