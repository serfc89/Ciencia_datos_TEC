{
 "cells": [
  {
   "cell_type": "markdown",
   "metadata": {
    "colab_type": "text",
    "id": "TGvdZZ7C16o5"
   },
   "source": [
    "# Matemática para Ciencia de los Datos\n",
    "# Quiz 1\n",
    "\n",
    "## Estudiante: Sergio Fernández Calvo\n",
    "\n",
    "Luis Alexánder Calvo Valverde \n",
    "\n",
    "Instituto Tecnológico de Costa Rica, \n",
    "\n",
    "PAttern Recongition and MAchine Learning Group (PARMA-Group)\n",
    "\n",
    "---\n",
    "\n",
    "Fecha de entrega: Jueves 19 de Marzo del 2020, a más tardar a las 3:00 pm.\n",
    "\n",
    "Medio de entrega: Por medio del TEC-Digital.\n",
    "\n",
    "Entregables: Un archivo en jupyter ( .IPYNB ). \n",
    "\n",
    "Modo de trabajo: Individual.\n",
    "\n",
    "\n",
    "---\n",
    "\n",
    "\n",
    "\n",
    "Resumen En el presente quiz se repasan varios conceptos elementales respecto a matrices.\n",
    "\n",
    "\n",
    "---\n"
   ]
  },
  {
   "cell_type": "markdown",
   "metadata": {
    "colab_type": "text",
    "id": "tgcoZAm82q8Y"
   },
   "source": [
    "**Pregunta 1**\n",
    "\n",
    "Considerando que la transpuesta de una matriz es el resultado de cambiar las filas a columnas. Sea una matriz $A\\in\\mathbb{R}^{m\\times n}$, su transpuesta se escribe como $A^{T}\\in\\mathbb{R}^{n\\times m}$ y sus entradas están dadas por: \n",
    "\n",
    "\\begin{equation}\n",
    "\\left(A^{T}\\right)_{i,j}=A_{j,i}.\n",
    "\\end{equation}\n",
    "\n",
    "Las siguientes son propiedades de la transpuesta: \n",
    "\n",
    "- $\\left(A^{T}\\right)^{T}=A$\n",
    "- $\\left(AB\\right)^{T}=B^{T}A^{T}$\n",
    "- $\\left(A+B\\right)^{T}=A^{T}+B^{T}$.\n",
    "\n",
    "\n",
    "\n",
    "---\n",
    "\n",
    "\n",
    "\n",
    "Proponga Usted dos matrices, $A\\in\\mathbb{R}^{4\\times 3}$ y $B\\in\\mathbb{R}^{3\\times 4}$ (no las busque en Internet, trate de proponer los valores por si mismo), y utilizando pythorch muestre que las siguientes propiedades se cumplen con sus matrices propuestas.\n",
    "\n",
    "**Note** que ni A ni B son cuadradas, y no tienen las mismas dimensiones.\n",
    "\n",
    "\n",
    "**1. (15 puntos)**\n",
    "\n",
    "$\\left(A^{T}\\right)^{T}=A$\n",
    "\n",
    "**2. (15 puntos)**\n",
    "\n",
    "$\\left(AB\\right)^{T}=B^{T}A^{T}$\n",
    "\n"
   ]
  },
  {
   "cell_type": "code",
   "execution_count": 4,
   "metadata": {},
   "outputs": [],
   "source": [
    "## Solución \n",
    "import torch as torch\n",
    "import math\n",
    "import numpy as np"
   ]
  },
  {
   "cell_type": "markdown",
   "metadata": {},
   "source": [
    "Sean  \\begin{equation}\n",
    "A=\\begin{bmatrix}\n",
    "1 & 3 & 5 \\\\\n",
    "7 & 9 & 11 \\\\\n",
    "1 & 3 & 5 \\\\\n",
    "7 & 9 & 11\n",
    "\\end{bmatrix}, \n",
    "\\qquad\n",
    "B=\\begin{bmatrix}\n",
    "2 & 4 & 6 & 8 \\\\\n",
    "10 & 12 & 14 & 16\\\\\n",
    "2 & 4 & 6 & 8\\\\\n",
    "\\end{bmatrix}\n",
    "\\end{equation}"
   ]
  },
  {
   "cell_type": "code",
   "execution_count": 40,
   "metadata": {},
   "outputs": [
    {
     "data": {
      "text/plain": [
       "tensor([[ 1,  3,  5],\n",
       "        [ 7,  9, 11],\n",
       "        [ 1,  3,  5],\n",
       "        [ 7,  9, 11]])"
      ]
     },
     "execution_count": 40,
     "metadata": {},
     "output_type": "execute_result"
    }
   ],
   "source": [
    "#crear a\n",
    "a = torch.arange(1, 13, 2)\n",
    "a = torch.reshape(a, (2,3)).repeat(2,1)\n",
    "a"
   ]
  },
  {
   "cell_type": "code",
   "execution_count": 63,
   "metadata": {},
   "outputs": [
    {
     "data": {
      "text/plain": [
       "tensor([[ 2,  4,  6,  8],\n",
       "        [10, 12, 14, 16],\n",
       "        [ 2,  4,  6,  8]])"
      ]
     },
     "execution_count": 63,
     "metadata": {},
     "output_type": "execute_result"
    }
   ],
   "source": [
    "#crear b \n",
    "b = torch.arange(2, 18, 2)\n",
    "b = torch.reshape(b, (2, 4)).repeat(2,1)\n",
    "b = b[:-1]\n",
    "b\n"
   ]
  },
  {
   "cell_type": "markdown",
   "metadata": {},
   "source": [
    "**1. (15 puntos)** Solución\n",
    "\n",
    "$\\left(A^{T}\\right)^{T}=A$"
   ]
  },
  {
   "cell_type": "code",
   "execution_count": 71,
   "metadata": {},
   "outputs": [
    {
     "data": {
      "text/plain": [
       "True"
      ]
     },
     "execution_count": 71,
     "metadata": {},
     "output_type": "execute_result"
    }
   ],
   "source": [
    "torch.equal(a, torch.t(torch.t(a)))"
   ]
  },
  {
   "cell_type": "markdown",
   "metadata": {},
   "source": [
    "**2. (15 puntos)**\n",
    "\n",
    "$\\left(AB\\right)^{T}=B^{T}A^{T}$"
   ]
  },
  {
   "cell_type": "code",
   "execution_count": 76,
   "metadata": {},
   "outputs": [
    {
     "data": {
      "text/plain": [
       "True"
      ]
     },
     "execution_count": 76,
     "metadata": {},
     "output_type": "execute_result"
    }
   ],
   "source": [
    "torch.equal(torch.t(torch.mm(a, b)), torch.mm(torch.t(b), torch.t(a)))"
   ]
  },
  {
   "cell_type": "markdown",
   "metadata": {
    "colab_type": "text",
    "id": "QJ6O85pM5Ns3"
   },
   "source": [
    "**Pregunta 2**\n",
    "\n",
    "\n",
    "Un conjunto de vectores $\\left\\{ \\vec{x}_{1},\\vec{x}_{2},\\ldots,\\vec{x}_{n}\\right\\} \\in\\mathbb{R}^{m}$ se dice que es linealmente independiente, si ningún vector de tal conjunto puede ser representado como una combinación lineal del resto de vectores. De lo contrario, si uno de los vectores en tal conjunto puede ser representado como una combinación lineal del resto de vectores, entonces los vectores son linealmente dependientes, lo que se expresa como: \n",
    "\n",
    "\\begin{equation}\n",
    "\\vec{x}_{j}=\\sum_{i=1}^{n-1}\\alpha_{i}\\vec{x}_{i}\n",
    "\\end{equation}\n",
    "\n",
    "para cualquier conjunto de valores escalares $\\alpha_{1},\\ldots,\\alpha_{n-1}\\in\\mathbb{R}$ se dice que el vector $\\vec{x}_{j}\\in\\mathbb{R}^{m}$ es linealmente dependiente de los vectores $\\vec{x}_{i}$. \n",
    "\n",
    "\n",
    "\n",
    "---\n",
    "\n",
    "**1. (20 puntos)**\n",
    "\n",
    "Proponga una matriz $A\\in\\mathbb{R}^{5\\times 5}$, propóngala Usted mismo (no la busque en Internet) y que no sea la matriz identidad, de manera que dicha matriz sea de rango completo. Muestre en pytorch que cumple esta propiedad (puede usar matrix_rank).\n",
    "\n",
    "**2. (20 puntos)**\n",
    "Ahora hágale cambios a su matriz de manera que sea de rango $3$, y luego más cambios para que sea de rango $2$. Muestre como va cambiando la matriz y el cálculo del rango en pythorch (puede utilizar torch.matrix_rank)."
   ]
  },
  {
   "cell_type": "markdown",
   "metadata": {},
   "source": [
    "**Solución**"
   ]
  },
  {
   "cell_type": "code",
   "execution_count": 96,
   "metadata": {},
   "outputs": [
    {
     "name": "stdout",
     "output_type": "stream",
     "text": [
      "tensor(2)\n"
     ]
    },
    {
     "data": {
      "text/plain": [
       "tensor([[ 1.,  2.,  3.,  4.,  5.],\n",
       "        [ 6.,  7.,  8.,  9., 10.],\n",
       "        [11., 12., 13., 14., 15.],\n",
       "        [16., 17., 18., 19., 20.],\n",
       "        [21., 22., 23., 24., 25.]], dtype=torch.float64)"
      ]
     },
     "execution_count": 96,
     "metadata": {},
     "output_type": "execute_result"
    }
   ],
   "source": [
    "a = \n",
    "print(torch.matrix_rank(a))\n",
    "a"
   ]
  },
  {
   "cell_type": "markdown",
   "metadata": {
    "colab_type": "text",
    "id": "8SUJ4BrTV4yN"
   },
   "source": [
    "**Pregunta 3 (30 puntos)**\n",
    "\n",
    "Programe en python una función llamada esOrtonormal, que reciba un parámetro llamado pMatriz y retorna True si pMatriz es una matriz ortonormal y False de lo contrario. Como pre-condición considere que la matriz tiene al menos 2 filas y 2 columnas.\n",
    "\n",
    "def esOrtonormal( pMatriz ):\n",
    "\n",
    "**Nota: ** Como requerirá calcular las combinaciones, investigue el uso del siguiente código. El 5 es solo un ejemplo, sería el número total de elementos a combinar:\n",
    "\n",
    "```\n",
    "from itertools import combinations \n",
    "\n",
    "filas = 5\n",
    "\n",
    "combinaciones = combinations(list(range(filas)), 2)\n",
    "\n",
    "for una in list(combinaciones): \n",
    "\n",
    " print(una)\n",
    "\n",
    "\n",
    "\n"
   ]
  }
 ],
 "metadata": {
  "colab": {
   "collapsed_sections": [],
   "name": "Quiz_1_Matemática_para_ciencia_de_los_datos.ipynb",
   "provenance": []
  },
  "kernelspec": {
   "display_name": "Python 3",
   "language": "python",
   "name": "python3"
  },
  "language_info": {
   "codemirror_mode": {
    "name": "ipython",
    "version": 3
   },
   "file_extension": ".py",
   "mimetype": "text/x-python",
   "name": "python",
   "nbconvert_exporter": "python",
   "pygments_lexer": "ipython3",
   "version": "3.7.3"
  }
 },
 "nbformat": 4,
 "nbformat_minor": 4
}
