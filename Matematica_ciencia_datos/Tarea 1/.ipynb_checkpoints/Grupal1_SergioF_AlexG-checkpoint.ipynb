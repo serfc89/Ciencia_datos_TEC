{
 "cells": [
  {
   "cell_type": "markdown",
   "metadata": {
    "colab_type": "text",
    "id": "GItxU96mTk16"
   },
   "source": [
    "# Matemática para Ciencia de los Datos\n",
    "# Trabajo_Práctico_1\n",
    "\n",
    "## Estudiantes : Sergio Fernández Calvo y Freddy Alexander Gómez\n",
    "\n",
    "Luis Alexánder Calvo Valverde \n",
    "\n",
    "Instituto Tecnológico de Costa Rica, \n",
    "\n",
    "PAttern Recongition and MAchine Learning Group (PARMA-Group)\n",
    "\n",
    "---\n",
    "\n",
    "Fecha de entrega: Jueves 12 de Marzo del 2020, a más tardar a las 3:00 pm.\n",
    "\n",
    "Medio de entrega: Por medio del TEC-Digital.\n",
    "\n",
    "Entregables: Un archivo jupyter ( .IPYNB ). \n",
    "\n",
    "Modo de trabajo: Parejas.\n",
    "\n",
    "\n",
    "---\n",
    "\n",
    "\n",
    "\n",
    "Resumen En el presente trabajo práctico se realizarán ejercicios para repasar aspectos básicos del algebra lineal: Sistemas lineales y vectores. Puede usar celdas de texto para explicaciones amplias y en las celdas de código, además de programar en python, documente su código con comentarios explicativos de lo que va haciendo.\n",
    "\n",
    "\n",
    "---\n",
    "\n"
   ]
  },
  {
   "cell_type": "markdown",
   "metadata": {
    "colab_type": "text",
    "id": "jdtaAwa8XzNA"
   },
   "source": [
    "**Pregunta 1 (20 puntos, 10 pts c/u)**\n",
    "\n",
    "Demuestre de manera matemática si los siguientes sistemas $L\\left\\{ \\cdot\\right\\}$  (con entrada $u(t)$ y salida $g(t)$) son lineales o no lineales (escriba las fórmulas en Google Colab). Una vez hecho su mayor esfuerzo, si no sabe cómo seguir matemáticamente, puede sustituir con valores y mostrar por contra-ejemplo.\n",
    "\n",
    "a)  \n",
    "$g\\left(t\\right)=\\log _{10} u(t)$\n",
    "\n",
    "R/\n",
    "\n",
    "Con una entrada dada por $\\alpha u_{1}(t) + \\beta u_{1}(t)$, se tiene que:\n",
    "\n",
    "$L\\left\\{ \\alpha f_{1}(x) + \\beta f_{2}(t)\\right\\}$ $=$  $L\\left\\{\\alpha f_{1}(x) + \\beta f_{2}(x)\\right\\}$ (cierto si y solo si)\n",
    "\n",
    "$\\Leftrightarrow$ para  $ \\forall x \\in \\mathbb{R}$ se cumple que\n",
    "\n",
    "$\\log_{10}(\\alpha f_{1}(x) + \\beta f_{2}(x))$ $=$ $\\alpha\\log_{10}f_{1}(x) + \\beta\\log_{10}f_{2}(x)$\n",
    "\n",
    "$\\Leftrightarrow$\n",
    "\n",
    "$\\log_{10}(\\alpha f_{1}(x) + \\beta f_{2}(x))$ $=$ $\\log_{10}f_{1}(x)^{\\alpha} + \\log_{10}f_{2}(x)^{\\beta}$\n",
    "\n",
    "$\\Leftrightarrow$\n",
    "\n",
    "$\\log_{10}(\\alpha f_{1}(x) + \\beta f_{2}(x))$ $=$ $\\log_{10}(f_{1}(x)^{\\alpha} \\cdot f_{2}(x)^{\\beta})$\n",
    "\n",
    "\n",
    "pero claramente esto no se cumple para todo $x$ en $\\mathbb{R}$. \n",
    "\n",
    "$\\therefore$ el sistema no es lineal\n",
    "\n",
    "\n",
    "\n",
    "b)  \n",
    "$g\\left(t\\right)= |u(t)|$\n",
    "\n",
    "Donde | | corresponde al valor absoluto.\n",
    "\n",
    "R/\n",
    "\n",
    "Con una entrada dada por $\\alpha u_{1}(t) + \\beta u_{1}(t)$, se tiene que:\n",
    "\n",
    "\n",
    "$L\\left\\{ \\alpha f_{1}(x) + \\beta f_{2}(t)\\right\\}$ $=$  $L\\left\\{\\alpha f_{1}(x) + \\beta f_{2}(x)\\right\\}$\n",
    "(es cierto si y solo si)\n",
    "\n",
    "$\\Leftrightarrow$ para  $ \\forall x \\in \\mathbb{R}$ se cumple que\n",
    "\n",
    "$|(\\alpha f_{1}(x) + \\beta f_{2}(x)|$ $=$ $\\alpha|f_{1}(x) + \\beta|f_{2}(x)|$\n",
    "\n",
    "$\\Leftrightarrow$\n",
    "\n",
    "$(|(\\alpha f_{1}(x) + \\beta f_{2}(x)|)^2$ $=$ $(\\alpha|f_{1}(x) + \\beta|f_{2}(x)|)^2$\n",
    "\n",
    "$\\Leftrightarrow$\n",
    "\n",
    "$|(\\alpha f_{1}(x)|^2 + |\\beta f_{2}(x)|^2 + 2\\alpha\\beta|f_{1}(x)||f_{2}(x)|$ = $\\alpha f_{1}(x)^2 + \\beta  f_{2}(x)^2 + 2\\alpha\\beta f_{1}(x)f_{2}(x)$\n",
    "\n",
    "$\\Leftrightarrow$\n",
    "\n",
    "$\\alpha\\beta|f_{1}(x)||f_{2}(x)|$ $=$ $\\alpha\\beta f_{1}(x)f_{2}(x)$\n",
    "\n",
    "dado que $|x|^2 = x^2$ $\\forall x \\in \\mathbb{R}$\n",
    "\n",
    "\n",
    "Pero esto no se cumple para todo x, por ejemplo tome $f_{1}(x)$ = $-1$\n",
    "\n",
    "\n",
    "$\\therefore$ el sistema no es lineal\n",
    "\n",
    "\n",
    "\n",
    "\n",
    "\n",
    "\n",
    "\n",
    "---\n",
    "\n",
    "**Pregunta 2 (20 puntos, 10 pts c/u)**\n",
    "\n",
    "\n",
    "Calcule el productor cruz de $a \\times b$ para los siguientes pares de vectores en pytorch, una versión usando la función torch.cross y otra versión programando Usted sin utilizar esta función (Google Colab).\n",
    "\n",
    "\n",
    "\n",
    "\n",
    "\n",
    "\n"
   ]
  },
  {
   "cell_type": "code",
   "execution_count": 3,
   "metadata": {},
   "outputs": [],
   "source": [
    "import torch as torch\n",
    "import math \n",
    "import numpy as np"
   ]
  },
  {
   "cell_type": "markdown",
   "metadata": {},
   "source": [
    "a)\n",
    "\n",
    "$a=\\begin{bmatrix}1 \\\\ 2 \\\\ 3 \\end{bmatrix}, b=\\begin{bmatrix}-1 \\\\ 1 \\\\ 2 \\end{bmatrix}$\n",
    "\n"
   ]
  },
  {
   "cell_type": "markdown",
   "metadata": {},
   "source": [
    "con `pytorch`"
   ]
  },
  {
   "cell_type": "code",
   "execution_count": 25,
   "metadata": {},
   "outputs": [
    {
     "data": {
      "text/plain": [
       "tensor([ 1, -5,  3])"
      ]
     },
     "execution_count": 25,
     "metadata": {},
     "output_type": "execute_result"
    }
   ],
   "source": [
    "a = torch.tensor([1, 2, 3])\n",
    "b = torch.tensor([-1, 1, 2])\n",
    "\n",
    "cross = torch.cross(a, b)\n",
    "cross"
   ]
  },
  {
   "cell_type": "markdown",
   "metadata": {},
   "source": [
    "a pie"
   ]
  },
  {
   "cell_type": "code",
   "execution_count": 24,
   "metadata": {},
   "outputs": [
    {
     "data": {
      "text/plain": [
       "tensor([ 1, -5,  3])"
      ]
     },
     "execution_count": 24,
     "metadata": {},
     "output_type": "execute_result"
    }
   ],
   "source": [
    "cross = torch.tensor([2*2 - 3*1, 3*(-1) - (1)*2, 1*1 - 2*(-1) ])\n",
    "cross"
   ]
  },
  {
   "cell_type": "markdown",
   "metadata": {},
   "source": [
    "b)\n",
    "\n",
    "$a=\\begin{bmatrix}-2 \\\\ -2 \\\\ 4 \\end{bmatrix}, b=\\begin{bmatrix} 3 \\\\ -1 \\\\ 1 \\end{bmatrix}$"
   ]
  },
  {
   "cell_type": "markdown",
   "metadata": {},
   "source": [
    "usando `pytorch`"
   ]
  },
  {
   "cell_type": "code",
   "execution_count": 9,
   "metadata": {},
   "outputs": [
    {
     "data": {
      "text/plain": [
       "tensor([ 2, 14,  8])"
      ]
     },
     "execution_count": 9,
     "metadata": {},
     "output_type": "execute_result"
    }
   ],
   "source": [
    "a = torch.tensor([-2, -2, 4])\n",
    "b = torch.tensor([3, -1, 1])\n",
    "\n",
    "cross = torch.cross(a, b)\n",
    "cross"
   ]
  },
  {
   "cell_type": "markdown",
   "metadata": {},
   "source": [
    "a pie"
   ]
  },
  {
   "cell_type": "code",
   "execution_count": 15,
   "metadata": {},
   "outputs": [
    {
     "data": {
      "text/plain": [
       "tensor([ 2, 14,  8])"
      ]
     },
     "execution_count": 15,
     "metadata": {},
     "output_type": "execute_result"
    }
   ],
   "source": [
    "cross = torch.tensor([-2*1 - 4*(-1), 4*3 - (-2)*1, -2*(-1) - (-2)*3 ])\n",
    "cross"
   ]
  },
  {
   "cell_type": "markdown",
   "metadata": {},
   "source": [
    "---\n",
    "\n",
    "**Pregunta 3 (20 puntos, 10 pts c/u)**\n",
    "\n",
    "Para cada uno de los siguientes vectores: primero, de manera matemática: calcule la norma $L_2$ y normalice el vector, luego muestre una implementación en python de lo anterior, pero sin utilizar la función torch.norm de la biblioteca (en Google Colab). Luego compare su resultado con una versión usando torch.norm.\n",
    "\n",
    "a)\n",
    "\n",
    "$a = \\begin{bmatrix}-9 \\\\ 7 \\end{bmatrix}$\n",
    "\n",
    "\n",
    "\n",
    "\n"
   ]
  },
  {
   "cell_type": "markdown",
   "metadata": {},
   "source": [
    "matemáticamente la norma sería: $\\|a\\|$ $=$ $\\sqrt{(-9^2) + 7^2} = \\sqrt{81 + 49}$ = 11.40..."
   ]
  },
  {
   "cell_type": "markdown",
   "metadata": {},
   "source": [
    "mientras que el vector normalizado $\\frac{a}{\\|a\\|}$ $\\approx$ $\\begin{bmatrix}\\frac{-9}{11.40} \\\\ \\frac{7}{11.40} \\end{bmatrix} \\approx \\begin{bmatrix}-0.789 \\\\ 0.614\\end{bmatrix}$"
   ]
  },
  {
   "cell_type": "code",
   "execution_count": 51,
   "metadata": {},
   "outputs": [
    {
     "data": {
      "text/plain": [
       "11.40175425099138"
      ]
     },
     "execution_count": 51,
     "metadata": {},
     "output_type": "execute_result"
    }
   ],
   "source": [
    "def norma(vector):\n",
    "    norma = 0\n",
    "    for ind in vector:\n",
    "        norma = norma + (ind)**2\n",
    "    norma = math.sqrt(norma)\n",
    "    return norma\n",
    "\n",
    "a = np.array([-9, 7])\n",
    "\n",
    "norma(a)"
   ]
  },
  {
   "cell_type": "markdown",
   "metadata": {},
   "source": [
    "mientras que el vector normalizado sería:"
   ]
  },
  {
   "cell_type": "code",
   "execution_count": 52,
   "metadata": {},
   "outputs": [
    {
     "data": {
      "text/plain": [
       "array([-0.78935222,  0.61394061])"
      ]
     },
     "execution_count": 52,
     "metadata": {},
     "output_type": "execute_result"
    }
   ],
   "source": [
    "a / norma(a)"
   ]
  },
  {
   "cell_type": "markdown",
   "metadata": {},
   "source": [
    "b) \n",
    "\n",
    "$b = \\begin{bmatrix}1 \\\\ 2 \\\\ 4 \\\\  5\\end{bmatrix}$\n",
    "\n"
   ]
  },
  {
   "cell_type": "markdown",
   "metadata": {},
   "source": [
    "matemáticamente la norma sería: $\\|a\\|$ $=$ $\\sqrt{(1^2) + 2^2 + 4^2 + 5^2} = \\sqrt{1 + 4 + 16 + 25}$ = 6.78..."
   ]
  },
  {
   "cell_type": "markdown",
   "metadata": {},
   "source": [
    "mientras que el vector normalizado $\\frac{a}{\\|a\\|}$ $\\approx$ $\\begin{bmatrix}\\frac{1}{6.78} \\\\ \\frac{2}{6.78} \\\\ \\frac{4}{6.78} \\\\ \\frac{5}{6.78} \\end{bmatrix} \\approx \\begin{bmatrix} 0.148  \\\\ 0.294 \\\\ 0.590 \\\\ 0.737 \\end{bmatrix}$"
   ]
  },
  {
   "cell_type": "markdown",
   "metadata": {},
   "source": [
    "mientras que usando la misma función propia de arriba"
   ]
  },
  {
   "cell_type": "code",
   "execution_count": 54,
   "metadata": {},
   "outputs": [],
   "source": [
    "b = np.array([1,2,4,5])\n",
    "norma = norma(b)\n",
    "normalizado = b / norma"
   ]
  },
  {
   "cell_type": "code",
   "execution_count": 84,
   "metadata": {},
   "outputs": [
    {
     "name": "stdout",
     "output_type": "stream",
     "text": [
      "norma 6.782330\n",
      "el vector normalizado es\n",
      "[0.14744196 0.29488391 0.58976782 0.73720978]\n"
     ]
    }
   ],
   "source": [
    "print(\"norma %f\"%(norma))\n",
    "print(\"el vector normalizado es\")\n",
    "print(normalizado)"
   ]
  },
  {
   "cell_type": "markdown",
   "metadata": {},
   "source": [
    "---\n",
    "\n",
    "\n",
    "**Pregunta 4 (20 puntos, 10 pts c/u)**\n",
    "\n",
    "En Python, calcule el producto punto (o producto escalar entre vectores) $a \\cdot b$ para los siguientes pares de vectores, una versión utilizando torch.dot, y otra sin utilizar dicha función (en Google Colab):\n",
    "\n",
    "a) \n",
    "\n",
    "$a=\\begin{bmatrix}2 \\\\ 7 \\end{bmatrix}, b=\\begin{bmatrix}10 \\\\ 2 \\end{bmatrix}$\n",
    "\n",
    "\n",
    "\n",
    "\n",
    "\n",
    "\n",
    "\n"
   ]
  },
  {
   "cell_type": "markdown",
   "metadata": {},
   "source": [
    "con pytorch"
   ]
  },
  {
   "cell_type": "code",
   "execution_count": 49,
   "metadata": {},
   "outputs": [
    {
     "data": {
      "text/plain": [
       "'el producto punto es 34.000000'"
      ]
     },
     "execution_count": 49,
     "metadata": {},
     "output_type": "execute_result"
    }
   ],
   "source": [
    "a = torch.tensor([2, 7])\n",
    "b = torch.tensor([10, 2])\n",
    "\n",
    "\"el producto punto es %f\"%torch.dot(a, b)"
   ]
  },
  {
   "cell_type": "markdown",
   "metadata": {},
   "source": [
    "creando una función propia"
   ]
  },
  {
   "cell_type": "code",
   "execution_count": 50,
   "metadata": {},
   "outputs": [
    {
     "data": {
      "text/plain": [
       "'producto punto de a y b es 34'"
      ]
     },
     "execution_count": 50,
     "metadata": {},
     "output_type": "execute_result"
    }
   ],
   "source": [
    "def dot_product(vec_1, vec_2):\n",
    "    dot = 0\n",
    "    for i in range(0,len(vec_1)):\n",
    "        dot = dot + vec_1[i]*vec_2[i]\n",
    "    return dot\n",
    "\n",
    "\"producto punto de a y b es %i\"%dot_product(a, b)\n",
    "        "
   ]
  },
  {
   "cell_type": "markdown",
   "metadata": {},
   "source": [
    "b)\n",
    "\n",
    "$a=\\begin{bmatrix}-1 \\\\ 8 \\\\ 3 \\end{bmatrix}, b=\\begin{bmatrix} 2 \\\\ 6 \\\\ 5 \\end{bmatrix}$\n",
    "\n"
   ]
  },
  {
   "cell_type": "markdown",
   "metadata": {},
   "source": [
    "con pytorch"
   ]
  },
  {
   "cell_type": "code",
   "execution_count": 51,
   "metadata": {},
   "outputs": [
    {
     "data": {
      "text/plain": [
       "'el producto punto es 61.000000'"
      ]
     },
     "execution_count": 51,
     "metadata": {},
     "output_type": "execute_result"
    }
   ],
   "source": [
    "a = torch.tensor([-1, 8, 3])\n",
    "b = torch.tensor([2, 6, 5])\n",
    "\n",
    "\"el producto punto es %f\"%torch.dot(a, b)"
   ]
  },
  {
   "cell_type": "markdown",
   "metadata": {},
   "source": [
    "con la funcion propia"
   ]
  },
  {
   "cell_type": "code",
   "execution_count": 52,
   "metadata": {},
   "outputs": [
    {
     "data": {
      "text/plain": [
       "'producto punto de a y b es 61'"
      ]
     },
     "execution_count": 52,
     "metadata": {},
     "output_type": "execute_result"
    }
   ],
   "source": [
    "\"producto punto de a y b es %i\"%dot_product(a, b)"
   ]
  },
  {
   "cell_type": "markdown",
   "metadata": {},
   "source": [
    "---\n",
    "\n",
    "**Pregunta 5 (20 puntos, 10 pts c/u)**\n",
    "\n",
    "Estos dos puntos en python en Google Colab:\n",
    "\n",
    "a) Proponga dos vectores:  $x$  e  $y$ que sean colineales (con dos elementos cada uno).  Programe en python para mostrar que son colineales y luego grafíquelos en un mismo gráfico en python. Luego modifique y grafique uno de los vectores para mostrar cómo se ven dos vectores que no sean colineales.\n",
    "\n",
    "\n"
   ]
  },
  {
   "cell_type": "code",
   "execution_count": 56,
   "metadata": {},
   "outputs": [],
   "source": [
    "from matplotlib import pyplot as plt\n",
    "from mpl_toolkits.mplot3d import Axes3D\n",
    "from matplotlib import cm"
   ]
  },
  {
   "cell_type": "markdown",
   "metadata": {},
   "source": [
    "Sean $a = \\begin{bmatrix}1 \\\\ 0\\end{bmatrix}$ y $b = \\begin{bmatrix}2 \\\\ 0\\end{bmatrix}$\n",
    "\n",
    "Note que claramente $ \\begin{bmatrix}2 \\\\ 0\\end{bmatrix} = b = 2 a = 2* \\begin{bmatrix}1 \\\\ 0\\end{bmatrix}$  "
   ]
  },
  {
   "cell_type": "markdown",
   "metadata": {},
   "source": [
    "Comparando ambos vectores con python probamos que si son colineales"
   ]
  },
  {
   "cell_type": "code",
   "execution_count": 103,
   "metadata": {},
   "outputs": [
    {
     "name": "stdout",
     "output_type": "stream",
     "text": [
      "tensor([True, True])\n",
      "Son colineales\n"
     ]
    }
   ],
   "source": [
    "a = torch.tensor([2.,1.])\n",
    "b = torch.tensor([6., 3.])\n",
    "\n",
    "comparacion = torch.eq( b , 3 * a) \n",
    "print( comparacion )\n",
    "if min(comparacion) == True:\n",
    "  print(\"Son colineales\")\n",
    "else:\n",
    "  print(\"No son colineales\")\n"
   ]
  },
  {
   "cell_type": "markdown",
   "metadata": {},
   "source": [
    "Graficando los vectores obtenemos:"
   ]
  },
  {
   "cell_type": "code",
   "execution_count": 104,
   "metadata": {},
   "outputs": [
    {
     "data": {
      "image/png": "[encoded data removed]",
      "text/plain": [
       "<Figure size 432x288 with 1 Axes>"
      ]
     },
     "metadata": {
      "needs_background": "light"
     },
     "output_type": "display_data"
    }
   ],
   "source": [
    "origin = [0] \n",
    "plt.quiver(origin, origin, a, b, color=['r', 'b', 'g'], scale=30)\n",
    "plt.show()\n"
   ]
  },
  {
   "cell_type": "markdown",
   "metadata": {},
   "source": [
    "b) Proponga dos vectores:  $x$  e  $y$ que sean ortogonales (con dos elementos cada uno). Programe en python para mostrar que son ortogonales y luego grafíquelos en un mismo gráfico:  $x$ e $y$. Luego modifique y grafique uno de los vectores para mostrar cómo se ven dos vectores que no sean ortogonales.\n",
    "\n",
    "En ambos casos tome como origen el punto (0,0)\n",
    "\n",
    "**Proponga** significa que Ustedes, estudiando las propiedades de los vectores colineales y los ortogonales, propone los valores del  vector. \n"
   ]
  },
  {
   "cell_type": "markdown",
   "metadata": {},
   "source": [
    "Tomemos la base canónica de $\\mathbb{R}^2 : $ $\\left\\{\\begin{bmatrix} 1 \\\\ 0 \\end{bmatrix}, \\begin{bmatrix} 0 \\\\ 1 \\end{bmatrix}\\right\\}$"
   ]
  },
  {
   "cell_type": "markdown",
   "metadata": {},
   "source": [
    "Veamos que esto vectores son ortogonales con python:"
   ]
  },
  {
   "cell_type": "code",
   "execution_count": 88,
   "metadata": {},
   "outputs": [
    {
     "data": {
      "text/plain": [
       "tensor(0)"
      ]
     },
     "execution_count": 88,
     "metadata": {},
     "output_type": "execute_result"
    }
   ],
   "source": [
    "a = torch.tensor([1, 0])\n",
    "b = torch.tensor([0, 1])\n",
    "\n",
    "torch.dot(a, b)"
   ]
  },
  {
   "cell_type": "markdown",
   "metadata": {},
   "source": [
    "Dado que el producto punto es cero, los vectores tienen un ángulo de 90°, i.e. son ortogonales. Gráficamente:"
   ]
  },
  {
   "cell_type": "code",
   "execution_count": 90,
   "metadata": {},
   "outputs": [
    {
     "data": {
      "image/png": "[encoded data removed]",
      "text/plain": [
       "<Figure size 432x288 with 1 Axes>"
      ]
     },
     "metadata": {
      "needs_background": "light"
     },
     "output_type": "display_data"
    }
   ],
   "source": [
    "origin = [0] \n",
    "plt.quiver(origin, origin, b, a, color=['r', 'b', 'g'], scale=10)\n",
    "plt.show()"
   ]
  },
  {
   "cell_type": "code",
   "execution_count": null,
   "metadata": {},
   "outputs": [],
   "source": []
  }
 ],
 "metadata": {
  "colab": {
   "collapsed_sections": [],
   "name": "Trabajo_Práctico_1_Matemática_para_Ciencia_de_los_Datos.ipynb",
   "provenance": []
  },
  "kernelspec": {
   "display_name": "Python 3",
   "language": "python",
   "name": "python3"
  },
  "language_info": {
   "codemirror_mode": {
    "name": "ipython",
    "version": 3
   },
   "file_extension": ".py",
   "mimetype": "text/x-python",
   "name": "python",
   "nbconvert_exporter": "python",
   "pygments_lexer": "ipython3",
   "version": "3.7.3"
  }
 },
 "nbformat": 4,
 "nbformat_minor": 4
}
