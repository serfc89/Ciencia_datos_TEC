{
  "nbformat": 4,
  "nbformat_minor": 0,
  "metadata": {
    "colab": {
      "name": "2_LACV_Matrices_Parte1.ipynb",
      "provenance": [],
      "collapsed_sections": [],
      "toc_visible": true
    },
    "kernelspec": {
      "display_name": "Python 3",
      "language": "python",
      "name": "python3"
    },
    "language_info": {
      "codemirror_mode": {
        "name": "ipython",
        "version": 3
      },
      "file_extension": ".py",
      "mimetype": "text/x-python",
      "name": "python",
      "nbconvert_exporter": "python",
      "pygments_lexer": "ipython3",
      "version": "3.6.6"
    }
  },
  "cells": [
    {
      "cell_type": "markdown",
      "metadata": {
        "id": "MztdSyMHLcbu",
        "colab_type": "text"
      },
      "source": [
        "# Matemática para Ciencia de los Datos - Matrices\n",
        "\n",
        "-Profesor: Luis Alexánder Calvo Valverde.\n",
        "\n",
        "- Documento base: Saúl Calderón, Žiga Emeršič, Ángel García, Blaž Meden, Felipe Meza, Martín Solís, Juan Esquivel, Mauro Méndez, Manuel Zumbado."
      ]
    },
    {
      "cell_type": "markdown",
      "metadata": {
        "colab_type": "text",
        "id": "sPD8sqQXo3_P"
      },
      "source": [
        "# Matrices\n",
        "El álgebra lineal facilita la expresión de múltiples operaciones, como por ejemplo las operaciones en ecuaciones lineales, como el siguiente sistema:\n",
        "\n",
        "\\begin{array}{c}\n",
        "4x_{1}-5x_{2}=-13\\\\\n",
        "-2x_{1}+3x_{2}=9\n",
        "\\end{array}\n",
        "\n",
        "\n",
        "El sistema de ecuaciones anterior tiene igual número de ecuaciones y variables.\n",
        "\n",
        "En notación matricial, el sistema de ecuaciones anterior se expresa de la siguiente forma: \n",
        "\n",
        "\\begin{equation}\n",
        "A\\,\\vec{x}=b\n",
        "\\end{equation}\n",
        "\n",
        "con \n",
        "\n",
        "\\begin{equation}\n",
        "A=\\begin{bmatrix}4 & -5\\\\\n",
        "-2 & 3\n",
        "\\end{bmatrix},\\qquad b=\\begin{bmatrix}-13\\\\\n",
        "9\n",
        "\\end{bmatrix}\n",
        "\\end{equation}\n",
        "\n",
        "\n",
        "En el material del curso se utilizará la siguiente notación:\n",
        "\n",
        "\n",
        "- Con $A\\in\\mathbb{R}^{m\\times n}$ se define una matriz con $m$ filas\n",
        "y $n$ columnas, donde en este caso todas las entradas de $A$ son\n",
        "números reales.\n",
        "\n",
        "- Con $\\vec{x}\\in\\mathbb{R}^{n\\times1}=\\mathbb{R}^{n}$ se denota un\n",
        "vector con $n$ entradas. Por convención, un vector $n$ dimensional\n",
        "se define como una matriz de $n$ filas y $1$ columna, conocido como\n",
        "el **vector columna**: \n",
        "\n",
        "\\begin{equation}\n",
        "\\overrightarrow{x}=\\begin{bmatrix}x_{1}\\\\\n",
        "x_{2}\\\\\n",
        "\\vdots\\\\\n",
        "x_{n}\n",
        "\\end{bmatrix}\n",
        "\\end{equation}\n",
        "\n",
        "y el elemento $i$ del vector se denota como $x_{i}$. Un vector fila se define entonces de la siguiente forma (usando la definición de la transpuesta): \n",
        "\n",
        "\\begin{equation}\n",
        "\\overrightarrow{x}^{T}=\\begin{bmatrix}x_{1} & x_{2} & \\ldots & x_{n}\\end{bmatrix}\n",
        "\\end{equation}\n",
        "\n",
        "- Para denotar los elementos de una matriz se usa la notación $a_{i,j}$\n",
        "($A_{ij}$, $A_{i,j}$,$A\\left(i,j\\right)$, etc) para denotar una\n",
        "entrada de la matriz $A$ en la fila $i$ y la columna $j$:\n",
        "\n",
        "\n",
        "\\begin{equation}\n",
        "A=\\begin{bmatrix}a_{1,1} & a_{1,2} & \\ldots & a_{1,n}\\\\\n",
        "a_{2,1} & a_{2,2} & \\ldots & a_{2,n}\\\\\n",
        "\\vdots & \\vdots & \\ddots & \\vdots\\\\\n",
        "a_{m,1} & a_{m,2} &  & a_{m,n}\n",
        "\\end{bmatrix}\n",
        "\\end{equation}\n",
        "\n",
        "y se define la columna $j$ de la matriz $A$ con $a_{j}$ o $A_{:,j}$,\n",
        "de modo que la matriz $A$ está definida en términos de vectores columna\n",
        "por:\n",
        "\n",
        "\\begin{equation}\n",
        "A=\\begin{bmatrix}| & | & \\ldots & |\\\\\n",
        "\\overrightarrow{a}_{:,1} & \\overrightarrow{a}_{:,2} & \\ldots & \\overrightarrow{a}_{:,n}\\\\\n",
        "| & | & \\ldots & |\n",
        "\\end{bmatrix}\n",
        "\\end{equation}\n",
        "\n",
        "y se define la fila $i$ de tal matriz como $\\vec{a}_{i,:}^{T}$ o $A_{i,:}$, por lo que en términos de tales vectores fila la matriz $A$ se expresa como:\n",
        "\n",
        "\\begin{equation}\n",
        "A=\\begin{bmatrix}- & \\vec{a}_{1,:}^{T} & -\\\\\n",
        "- & \\vec{a}_{2,:}^{T} & -\\\\\n",
        " & \\vdots\\\\\n",
        "- & \\vec{a}_{m,:}^{T} & -\n",
        "\\end{bmatrix}\n",
        "\\end{equation}\n",
        "\n",
        "**Nota:** - $A$ es una matriz cuadrada cuando $A\\in\\mathbb{R}^{n\\times n}$, igual cantidad de filas que de columnas."
      ]
    },
    {
      "cell_type": "code",
      "metadata": {
        "id": "G5-ubyuTP4hF",
        "colab_type": "code",
        "colab": {
          "base_uri": "https://localhost:8080/",
          "height": 35
        },
        "outputId": "b09d47c9-fc87-4c18-b6c7-19ede1c464ae"
      },
      "source": [
        "# Si no tiene instalado pytorch hay que hacerlo\n",
        "!pip install torch\n",
        "\n",
        "###############################################################################\n",
        "import torch as torch\n",
        "import math \n",
        "import numpy as np\n",
        "from matplotlib import pyplot as plt\n",
        "from mpl_toolkits.mplot3d import Axes3D\n",
        "from matplotlib import cm\n",
        "###############################################################################\n"
      ],
      "execution_count": 1,
      "outputs": [
        {
          "output_type": "stream",
          "text": [
            "Requirement already satisfied: torch in /usr/local/lib/python3.6/dist-packages (1.4.0)\n"
          ],
          "name": "stdout"
        }
      ]
    },
    {
      "cell_type": "code",
      "metadata": {
        "id": "aUmZ85_SPekl",
        "colab_type": "code",
        "colab": {
          "base_uri": "https://localhost:8080/",
          "height": 69
        },
        "outputId": "774c37d4-64e9-4c6b-fc90-3c225d31799b"
      },
      "source": [
        "A = torch.tensor([ [1. , 2. , 3. ], [4. , 5. , 6. ] , [7. , 8. , 9.]])\n",
        "print( A )"
      ],
      "execution_count": 2,
      "outputs": [
        {
          "output_type": "stream",
          "text": [
            "tensor([[1., 2., 3.],\n",
            "        [4., 5., 6.],\n",
            "        [7., 8., 9.]])\n"
          ],
          "name": "stdout"
        }
      ]
    }
  ]
}